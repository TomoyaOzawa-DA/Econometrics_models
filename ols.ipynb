{
 "cells": [
  {
   "cell_type": "markdown",
   "metadata": {},
   "source": [
    "##  OLS\n",
    "\n",
    "- refer to [the document](https://www.statsmodels.org/stable/example_formulas.html)"
   ]
  },
  {
   "cell_type": "code",
   "execution_count": 2,
   "metadata": {},
   "outputs": [],
   "source": [
    "import pandas as pd\n",
    "import numpy as np\n",
    "import statsmodels.api as sm\n",
    "import statsmodels.formula.api as smf\n",
    "from stargazer.stargazer import Stargazer"
   ]
  },
  {
   "cell_type": "markdown",
   "metadata": {},
   "source": [
    "### try multiple formulae and produce the result table with stargazer"
   ]
  },
  {
   "cell_type": "code",
   "execution_count": 3,
   "metadata": {},
   "outputs": [
    {
     "data": {
      "text/html": [
       "<div>\n",
       "<style scoped>\n",
       "    .dataframe tbody tr th:only-of-type {\n",
       "        vertical-align: middle;\n",
       "    }\n",
       "\n",
       "    .dataframe tbody tr th {\n",
       "        vertical-align: top;\n",
       "    }\n",
       "\n",
       "    .dataframe thead th {\n",
       "        text-align: right;\n",
       "    }\n",
       "</style>\n",
       "<table border=\"1\" class=\"dataframe\">\n",
       "  <thead>\n",
       "    <tr style=\"text-align: right;\">\n",
       "      <th></th>\n",
       "      <th>Lottery</th>\n",
       "      <th>Literacy</th>\n",
       "      <th>Wealth</th>\n",
       "      <th>Region</th>\n",
       "    </tr>\n",
       "  </thead>\n",
       "  <tbody>\n",
       "    <tr>\n",
       "      <th>0</th>\n",
       "      <td>41</td>\n",
       "      <td>37</td>\n",
       "      <td>73</td>\n",
       "      <td>E</td>\n",
       "    </tr>\n",
       "    <tr>\n",
       "      <th>1</th>\n",
       "      <td>38</td>\n",
       "      <td>51</td>\n",
       "      <td>22</td>\n",
       "      <td>N</td>\n",
       "    </tr>\n",
       "    <tr>\n",
       "      <th>2</th>\n",
       "      <td>66</td>\n",
       "      <td>13</td>\n",
       "      <td>61</td>\n",
       "      <td>C</td>\n",
       "    </tr>\n",
       "    <tr>\n",
       "      <th>3</th>\n",
       "      <td>80</td>\n",
       "      <td>46</td>\n",
       "      <td>76</td>\n",
       "      <td>E</td>\n",
       "    </tr>\n",
       "    <tr>\n",
       "      <th>4</th>\n",
       "      <td>79</td>\n",
       "      <td>69</td>\n",
       "      <td>83</td>\n",
       "      <td>E</td>\n",
       "    </tr>\n",
       "  </tbody>\n",
       "</table>\n",
       "</div>"
      ],
      "text/plain": [
       "   Lottery  Literacy  Wealth Region\n",
       "0       41        37      73      E\n",
       "1       38        51      22      N\n",
       "2       66        13      61      C\n",
       "3       80        46      76      E\n",
       "4       79        69      83      E"
      ]
     },
     "execution_count": 3,
     "metadata": {},
     "output_type": "execute_result"
    }
   ],
   "source": [
    "df = sm.datasets.get_rdataset(\"Guerry\", \"HistData\").data\n",
    "df = df[['Lottery', 'Literacy', 'Wealth', 'Region']].dropna()\n",
    "df.head()"
   ]
  },
  {
   "cell_type": "code",
   "execution_count": 17,
   "metadata": {},
   "outputs": [],
   "source": [
    "formulae = ['Lottery~ Literacy + Wealth + C(Region, Treatment(reference = \"E\"))', 'Lottery ~ Literacy : Wealth', 'Lottery ~ Literacy * Wealth']"
   ]
  },
  {
   "cell_type": "code",
   "execution_count": 18,
   "metadata": {},
   "outputs": [],
   "source": [
    "def estimate_ols(formula):\n",
    "    return smf.ols(formula, data = df).fit()"
   ]
  },
  {
   "cell_type": "code",
   "execution_count": 19,
   "metadata": {},
   "outputs": [],
   "source": [
    "results = list(map(estimate_ols, formulae))"
   ]
  },
  {
   "cell_type": "code",
   "execution_count": 20,
   "metadata": {},
   "outputs": [
    {
     "data": {
      "text/html": [
       "<table style=\"text-align:center\"><tr><td colspan=\"4\" style=\"border-bottom: 1px solid black\"></td></tr>\n",
       "<tr><td style=\"text-align:left\"></td><td colspan=\"3\"><em>Dependent variable: Lottery</em></td></tr><tr><td style=\"text-align:left\"></td><tr><td style=\"text-align:left\"></td><td>(1)</td><td>(2)</td><td>(3)</td></tr>\n",
       "<tr><td colspan=\"4\" style=\"border-bottom: 1px solid black\"></td></tr>\n",
       "\n",
       "<tr><td style=\"text-align:left\">C(Region, Treatment(reference=\"E\"))[T.C]</td><td>15.428<sup></sup></td><td></td><td></td></tr>\n",
       "<tr><td style=\"text-align:left\"></td><td>(9.727)</td><td></td><td></td></tr>\n",
       "<tr><td style=\"text-align:left\">C(Region, Treatment(reference=\"E\"))[T.N]</td><td>5.411<sup></sup></td><td></td><td></td></tr>\n",
       "<tr><td style=\"text-align:left\"></td><td>(7.804)</td><td></td><td></td></tr>\n",
       "<tr><td style=\"text-align:left\">C(Region, Treatment(reference=\"E\"))[T.S]</td><td>10.880<sup></sup></td><td></td><td></td></tr>\n",
       "<tr><td style=\"text-align:left\"></td><td>(8.916)</td><td></td><td></td></tr>\n",
       "<tr><td style=\"text-align:left\">C(Region, Treatment(reference=\"E\"))[T.W]</td><td>5.337<sup></sup></td><td></td><td></td></tr>\n",
       "<tr><td style=\"text-align:left\"></td><td>(9.390)</td><td></td><td></td></tr>\n",
       "<tr><td style=\"text-align:left\">Intercept</td><td>23.224<sup></sup></td><td>37.838<sup>***</sup></td><td>38.635<sup>**</sup></td></tr>\n",
       "<tr><td style=\"text-align:left\"></td><td>(14.931)</td><td>(4.348)</td><td>(15.825)</td></tr>\n",
       "<tr><td style=\"text-align:left\">Literacy</td><td>-0.186<sup></sup></td><td></td><td>-0.352<sup></sup></td></tr>\n",
       "<tr><td style=\"text-align:left\"></td><td>(0.210)</td><td></td><td>(0.334)</td></tr>\n",
       "<tr><td style=\"text-align:left\">Literacy:Wealth</td><td></td><td>0.003<sup></sup></td><td>-0.001<sup></sup></td></tr>\n",
       "<tr><td style=\"text-align:left\"></td><td></td><td>(0.002)</td><td>(0.006)</td></tr>\n",
       "<tr><td style=\"text-align:left\">Wealth</td><td>0.451<sup>***</sup></td><td></td><td>0.436<sup></sup></td></tr>\n",
       "<tr><td style=\"text-align:left\"></td><td>(0.103)</td><td></td><td>(0.283)</td></tr>\n",
       "\n",
       "<td colspan=\"4\" style=\"border-bottom: 1px solid black\"></td></tr>\n",
       "<tr><td style=\"text-align: left\">Observations</td><td>85</td><td>85</td><td>85</td></tr><tr><td style=\"text-align: left\">R<sup>2</sup></td><td>0.338</td><td>0.027</td><td>0.309</td></tr><tr><td style=\"text-align: left\">Adjusted R<sup>2</sup></td><td>0.287</td><td>0.015</td><td>0.283</td></tr><tr><td style=\"text-align: left\">Residual Std. Error</td><td>20.891 (df=78)</td><td>24.554 (df=83)</td><td>20.946 (df=81)</td></tr><tr><td style=\"text-align: left\">F Statistic</td><td>6.636<sup>***</sup> (df=6; 78)</td><td>2.286<sup></sup> (df=1; 83)</td><td>12.065<sup>***</sup> (df=3; 81)</td></tr>\n",
       "<tr><td colspan=\"4\" style=\"border-bottom: 1px solid black\"></td></tr><tr><td style=\"text-align: left\">Note:</td><td colspan=\"3\" style=\"text-align: right\"><sup>*</sup>p&lt;0.1; <sup>**</sup>p&lt;0.05; <sup>***</sup>p&lt;0.01</td></tr></table>"
      ],
      "text/plain": [
       "<stargazer.stargazer.Stargazer at 0x7fa2ae7c9d30>"
      ]
     },
     "execution_count": 20,
     "metadata": {},
     "output_type": "execute_result"
    }
   ],
   "source": [
    "Stargazer(results)"
   ]
  },
  {
   "cell_type": "code",
   "execution_count": null,
   "metadata": {},
   "outputs": [],
   "source": []
  },
  {
   "cell_type": "code",
   "execution_count": null,
   "metadata": {},
   "outputs": [],
   "source": []
  }
 ],
 "metadata": {
  "kernelspec": {
   "display_name": "Python 3 (ipykernel)",
   "language": "python",
   "name": "python3"
  },
  "language_info": {
   "codemirror_mode": {
    "name": "ipython",
    "version": 3
   },
   "file_extension": ".py",
   "mimetype": "text/x-python",
   "name": "python",
   "nbconvert_exporter": "python",
   "pygments_lexer": "ipython3",
   "version": "3.9.13"
  },
  "toc": {
   "base_numbering": 1,
   "nav_menu": {},
   "number_sections": false,
   "sideBar": true,
   "skip_h1_title": false,
   "title_cell": "Table of Contents",
   "title_sidebar": "Contents",
   "toc_cell": false,
   "toc_position": {},
   "toc_section_display": true,
   "toc_window_display": false
  }
 },
 "nbformat": 4,
 "nbformat_minor": 2
}
